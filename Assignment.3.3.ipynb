{
 "cells": [
  {
   "cell_type": "code",
   "execution_count": 1,
   "metadata": {},
   "outputs": [
    {
     "name": "stdout",
     "output_type": "stream",
     "text": [
      "Number of upper case letters: 3\n",
      "Number of lower case letters: 9\n"
     ]
    }
   ],
   "source": [
    "# Write a Python function that accepts a string and calculate the number of upper case letters and lower case letters.\n",
    "\n",
    "def count(string):\n",
    "    upper_count =0\n",
    "    lower_count =0\n",
    "    for char in string:\n",
    "     if char.isupper():\n",
    "        upper_count += 1\n",
    "     elif char.islower():\n",
    "        lower_count += 1\n",
    "     else:\n",
    "        pass\n",
    "    print(\"Number of upper case letters:\", upper_count)\n",
    "    print(\"Number of lower case letters:\", lower_count)\n",
    "count(\"Hi, Hello World\")"
   ]
  }
 ],
 "metadata": {
  "kernelspec": {
   "display_name": "Python 3",
   "language": "python",
   "name": "python3"
  },
  "language_info": {
   "codemirror_mode": {
    "name": "ipython",
    "version": 3
   },
   "file_extension": ".py",
   "mimetype": "text/x-python",
   "name": "python",
   "nbconvert_exporter": "python",
   "pygments_lexer": "ipython3",
   "version": "3.11.2"
  },
  "orig_nbformat": 4
 },
 "nbformat": 4,
 "nbformat_minor": 2
}
